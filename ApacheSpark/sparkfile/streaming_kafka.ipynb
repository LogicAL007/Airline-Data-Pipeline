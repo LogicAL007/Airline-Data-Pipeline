{
 "cells": [
  {
   "cell_type": "code",
   "execution_count": null,
   "id": "11f84197-e982-4354-9791-59242f21267f",
   "metadata": {},
   "outputs": [],
   "source": [
    "from pyspark.sql import SparkSession\n",
    "\n",
    "# Spark session & context\n",
    "spark = (SparkSession\n",
    "         .builder\n",
    "         .master('local')\n",
    "         .appName('kafka-streaming')\n",
    "         # Add kafka package\n",
    "         .config(\"spark.jars.packages\", \"org.apache.spark:spark-sql-kafka-0-10_2.11:2.4.5\")\n",
    "         .getOrCreate())\n",
    "sc = spark.sparkContext"
   ]
  },
  {
   "cell_type": "code",
   "execution_count": null,
   "id": "d0e1b87b-135e-497d-8625-3f64f87b1231",
   "metadata": {},
   "outputs": [],
   "source": [
    "# Read the message from the kafka stream\n",
    "df = spark \\\n",
    "  .readStream \\\n",
    "  .format(\"kafka\") \\\n",
    "  .option(\"kafka.bootstrap.servers\", \"kafka:9092\") \\\n",
    "  .option(\"subscribe\", \"ingestion-topic\") \\\n",
    "  .load()\n",
    "df.selectExpr(\"CAST(key AS STRING)\", \"CAST(value AS STRING)\")"
   ]
  },
  {
   "cell_type": "code",
   "execution_count": null,
   "id": "fb577ecc-3184-404e-8ec6-4a9f6ea4fd47",
   "metadata": {},
   "outputs": [],
   "source": [
    "#Create a small temporary view for SparkSQL\n",
    "df.createOrReplaceTempView(\"message\")"
   ]
  },
  {
   "cell_type": "code",
   "execution_count": null,
   "id": "321975a7-029c-4309-9085-d081b4b02943",
   "metadata": {},
   "outputs": [],
   "source": [
    "# Write out the message to the console of the environment\n",
    "res = spark.sql(\"SELECT * from message\")\n",
    "res.writeStream.format(\"console\") \\\n",
    "            .outputMode(\"append\") \\\n",
    "            .start() "
   ]
  },
  {
   "cell_type": "code",
   "execution_count": null,
   "id": "aa332f64-f54c-4d01-831b-30635364e9e5",
   "metadata": {},
   "outputs": [],
   "source": [
    "# Write the message back into Kafka in another topic that you are going to listen to with a local consumer\n",
    "ds = df \\\n",
    "  .writeStream \\\n",
    "  .format(\"kafka\") \\\n",
    "  .option(\"kafka.bootstrap.servers\", \"kafka:9092\") \\\n",
    "  .option(\"topic\", \"spark-output\") \\\n",
    "  .option(\"checkpointLocation\", \"/tmp\") \\\n",
    "  .start() \\\n",
    "  .awaitTermination()"
   ]
  }
 ],
 "metadata": {
  "kernelspec": {
   "display_name": "Python 3 (ipykernel)",
   "language": "python",
   "name": "python3"
  },
  "language_info": {
   "codemirror_mode": {
    "name": "ipython",
    "version": 3
   },
   "file_extension": ".py",
   "mimetype": "text/x-python",
   "name": "python",
   "nbconvert_exporter": "python",
   "pygments_lexer": "ipython3",
   "version": "3.9.13"
  }
 },
 "nbformat": 4,
 "nbformat_minor": 5
}
